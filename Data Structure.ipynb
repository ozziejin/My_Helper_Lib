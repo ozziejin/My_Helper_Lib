{
 "cells": [
  {
   "cell_type": "markdown",
   "metadata": {},
   "source": [
    "# 1 Stack"
   ]
  },
  {
   "cell_type": "code",
   "execution_count": 121,
   "metadata": {},
   "outputs": [
    {
     "data": {
      "text/plain": [
       "5"
      ]
     },
     "execution_count": 121,
     "metadata": {},
     "output_type": "execute_result"
    }
   ],
   "source": [
    "# list pop method\n",
    "lis = [1,2,3,4,5]\n",
    "lis.pop()"
   ]
  },
  {
   "cell_type": "code",
   "execution_count": 122,
   "metadata": {},
   "outputs": [],
   "source": [
    "class stack():\n",
    "    def __init__(self):\n",
    "        self.items = []\n",
    "    def push(self, item):\n",
    "        self.items.append(item)\n",
    "    def pop(self):\n",
    "        return self.items.pop()\n",
    "    def get_stack(self):\n",
    "        return self.items"
   ]
  },
  {
   "cell_type": "code",
   "execution_count": 123,
   "metadata": {},
   "outputs": [
    {
     "name": "stdout",
     "output_type": "stream",
     "text": [
      "['a', 'b', 'c']\n",
      "c\n",
      "['a', 'b']\n"
     ]
    }
   ],
   "source": [
    "my_stack =stack()\n",
    "my_stack.push('a')\n",
    "my_stack.push('b')\n",
    "my_stack.push('c')\n",
    "print(my_stack.get_stack())\n",
    "last = my_stack.pop()\n",
    "print(last)\n",
    "print(my_stack.get_stack())"
   ]
  },
  {
   "cell_type": "markdown",
   "metadata": {},
   "source": [
    "# 2 Linked List"
   ]
  },
  {
   "cell_type": "markdown",
   "metadata": {},
   "source": [
    "### 2-1 Singly Linked List"
   ]
  },
  {
   "cell_type": "code",
   "execution_count": 124,
   "metadata": {},
   "outputs": [],
   "source": [
    "class Node:\n",
    "    def __init__(self,data):\n",
    "        self.data = data\n",
    "        self.next = None"
   ]
  },
  {
   "cell_type": "code",
   "execution_count": 217,
   "metadata": {},
   "outputs": [],
   "source": [
    "class LinkedList:\n",
    "    def __init__(self):\n",
    "        self.head = None\n",
    "        \n",
    "    def append(self, data):\n",
    "        new_node = Node(data)\n",
    "        \n",
    "        if self.head is None:\n",
    "            self.head = new_node\n",
    "            return # need to return to\n",
    "\n",
    "        # iterate through the list to append to last node\n",
    "        this_node = self.head\n",
    "        while this_node.next:\n",
    "            this_node = this_node.next\n",
    "        this_node.next = new_node\n",
    "            \n",
    "    def print_nodes(self):\n",
    "        this_node = self.head\n",
    "        while this_node:\n",
    "            print(this_node.data)\n",
    "            this_node = this_node.next\n",
    "    \n",
    "    def insert(self, prev_node, data):\n",
    "        new_node = Node(data)\n",
    "        if prev_node is None: # prepend\n",
    "            if self.head: # if list is not empty\n",
    "                new_node.next = self.head\n",
    "            self.head = new_node\n",
    "            return\n",
    "    \n",
    "#         else: # insert after the appointed node\n",
    "        if not prev_node:\n",
    "            print('prev_node not in the list')\n",
    "            return\n",
    "\n",
    "        new_node.next = prev_node.next\n",
    "        prev_node.next = new_node"
   ]
  },
  {
   "cell_type": "code",
   "execution_count": 218,
   "metadata": {},
   "outputs": [
    {
     "name": "stdout",
     "output_type": "stream",
     "text": [
      "10\n",
      "11\n",
      "12\n",
      "13\n"
     ]
    }
   ],
   "source": [
    "ll = LinkedList()\n",
    "ll.insert(None,11)\n",
    "ll.append(data=12)\n",
    "ll.append(13)\n",
    "ll.insert(None, data=10)\n",
    "ll.print_nodes()"
   ]
  },
  {
   "cell_type": "code",
   "execution_count": 219,
   "metadata": {},
   "outputs": [
    {
     "name": "stdout",
     "output_type": "stream",
     "text": [
      "10\n",
      "11\n",
      "12\n",
      "12.5\n",
      "13\n"
     ]
    }
   ],
   "source": [
    "ll.insert(ll.head.next.next, 12.5)\n",
    "ll.print_nodes()"
   ]
  },
  {
   "cell_type": "code",
   "execution_count": 220,
   "metadata": {},
   "outputs": [
    {
     "name": "stdout",
     "output_type": "stream",
     "text": [
      "10\n",
      "11\n",
      "12\n",
      "12.5\n",
      "13\n"
     ]
    }
   ],
   "source": [
    "ll.insert(Node(9), 99)\n",
    "ll.print_nodes()"
   ]
  },
  {
   "cell_type": "code",
   "execution_count": null,
   "metadata": {},
   "outputs": [],
   "source": []
  }
 ],
 "metadata": {
  "kernelspec": {
   "display_name": "Python 3",
   "language": "python",
   "name": "python3"
  },
  "language_info": {
   "codemirror_mode": {
    "name": "ipython",
    "version": 3
   },
   "file_extension": ".py",
   "mimetype": "text/x-python",
   "name": "python",
   "nbconvert_exporter": "python",
   "pygments_lexer": "ipython3",
   "version": "3.7.4"
  }
 },
 "nbformat": 4,
 "nbformat_minor": 4
}
