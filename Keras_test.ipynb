{
 "cells": [
  {
   "cell_type": "code",
   "execution_count": 3,
   "metadata": {},
   "outputs": [],
   "source": [
    "import tensorflow as tf"
   ]
  },
  {
   "cell_type": "code",
   "execution_count": 4,
   "metadata": {},
   "outputs": [],
   "source": [
    "from tensorflow import keras"
   ]
  },
  {
   "cell_type": "code",
   "execution_count": 5,
   "metadata": {},
   "outputs": [
    {
     "data": {
      "text/plain": [
       "'2.1.0'"
      ]
     },
     "execution_count": 5,
     "metadata": {},
     "output_type": "execute_result"
    }
   ],
   "source": [
    "tf.__version__"
   ]
  },
  {
   "cell_type": "code",
   "execution_count": 6,
   "metadata": {},
   "outputs": [
    {
     "data": {
      "text/plain": [
       "'2.2.4-tf'"
      ]
     },
     "execution_count": 6,
     "metadata": {},
     "output_type": "execute_result"
    }
   ],
   "source": [
    "keras.__version__"
   ]
  },
  {
   "cell_type": "code",
   "execution_count": 8,
   "metadata": {},
   "outputs": [
    {
     "name": "stdout",
     "output_type": "stream",
     "text": [
      "Downloading data from https://storage.googleapis.com/tensorflow/tf-keras-datasets/train-labels-idx1-ubyte.gz\n",
      "32768/29515 [=================================] - 0s 1us/step\n",
      "Downloading data from https://storage.googleapis.com/tensorflow/tf-keras-datasets/train-images-idx3-ubyte.gz\n",
      "26427392/26421880 [==============================] - 2s 0us/step\n",
      "Downloading data from https://storage.googleapis.com/tensorflow/tf-keras-datasets/t10k-labels-idx1-ubyte.gz\n",
      "8192/5148 [===============================================] - 0s 0us/step\n",
      "Downloading data from https://storage.googleapis.com/tensorflow/tf-keras-datasets/t10k-images-idx3-ubyte.gz\n",
      "4423680/4422102 [==============================] - 0s 0us/step\n"
     ]
    }
   ],
   "source": [
    "fashion_mnist=keras.datasets.fashion_mnist\n",
    "(X_train_full,y_train_full),(X_test,y_test)=fashion_mnist.load_data()"
   ]
  },
  {
   "cell_type": "code",
   "execution_count": 18,
   "metadata": {},
   "outputs": [],
   "source": [
    "X_valid,X_train=X_train_full[:5000]/255.0,X_train_full[5000:]/255.0\n",
    "y_valid,y_train=y_train_full[:5000],y_train_full[5000:]"
   ]
  },
  {
   "cell_type": "code",
   "execution_count": 19,
   "metadata": {},
   "outputs": [],
   "source": [
    "model=keras.models.Sequential()\n",
    "model.add(keras.layers.Flatten(input_shape=[28,28]))\n",
    "model.add(keras.layers.Dense(300,activation=\"relu\"))\n",
    "model.add(keras.layers.Dense(100,activation=\"relu\"))\n",
    "model.add(keras.layers.Dense(10,activation=\"softmax\"))"
   ]
  },
  {
   "cell_type": "code",
   "execution_count": 20,
   "metadata": {},
   "outputs": [
    {
     "name": "stdout",
     "output_type": "stream",
     "text": [
      "Model: \"sequential_3\"\n",
      "_________________________________________________________________\n",
      "Layer (type)                 Output Shape              Param #   \n",
      "=================================================================\n",
      "flatten_2 (Flatten)          (None, 784)               0         \n",
      "_________________________________________________________________\n",
      "dense_3 (Dense)              (None, 300)               235500    \n",
      "_________________________________________________________________\n",
      "dense_4 (Dense)              (None, 100)               30100     \n",
      "_________________________________________________________________\n",
      "dense_5 (Dense)              (None, 10)                1010      \n",
      "=================================================================\n",
      "Total params: 266,610\n",
      "Trainable params: 266,610\n",
      "Non-trainable params: 0\n",
      "_________________________________________________________________\n"
     ]
    }
   ],
   "source": [
    "model.summary()"
   ]
  },
  {
   "cell_type": "code",
   "execution_count": 21,
   "metadata": {},
   "outputs": [],
   "source": [
    "model.compile(loss=\"sparse_categorical_crossentropy\",\n",
    "                optimizer=\"sgd\",\n",
    "                metrics=[\"accuracy\"])"
   ]
  },
  {
   "cell_type": "code",
   "execution_count": 22,
   "metadata": {},
   "outputs": [
    {
     "name": "stdout",
     "output_type": "stream",
     "text": [
      "Train on 55000 samples, validate on 5000 samples\n",
      "Epoch 1/30\n",
      "55000/55000 [==============================] - 9s 159us/sample - loss: 0.7227 - accuracy: 0.7621 - val_loss: 0.5108 - val_accuracy: 0.8302\n",
      "Epoch 2/30\n",
      "55000/55000 [==============================] - 9s 157us/sample - loss: 0.4909 - accuracy: 0.8297 - val_loss: 0.4337 - val_accuracy: 0.8572\n",
      "Epoch 3/30\n",
      "55000/55000 [==============================] - 8s 141us/sample - loss: 0.4435 - accuracy: 0.8448 - val_loss: 0.4144 - val_accuracy: 0.8592\n",
      "Epoch 4/30\n",
      "55000/55000 [==============================] - 8s 146us/sample - loss: 0.4162 - accuracy: 0.8548 - val_loss: 0.3996 - val_accuracy: 0.8658\n",
      "Epoch 5/30\n",
      "55000/55000 [==============================] - 8s 147us/sample - loss: 0.3968 - accuracy: 0.8599 - val_loss: 0.3779 - val_accuracy: 0.8674\n",
      "Epoch 6/30\n",
      "55000/55000 [==============================] - 8s 153us/sample - loss: 0.3796 - accuracy: 0.8647 - val_loss: 0.3799 - val_accuracy: 0.8676\n",
      "Epoch 7/30\n",
      "55000/55000 [==============================] - 8s 152us/sample - loss: 0.3678 - accuracy: 0.8687 - val_loss: 0.3588 - val_accuracy: 0.8718\n",
      "Epoch 8/30\n",
      "55000/55000 [==============================] - 8s 144us/sample - loss: 0.3555 - accuracy: 0.8733 - val_loss: 0.3561 - val_accuracy: 0.8728\n",
      "Epoch 9/30\n",
      "55000/55000 [==============================] - 9s 165us/sample - loss: 0.3452 - accuracy: 0.8755 - val_loss: 0.3555 - val_accuracy: 0.8732\n",
      "Epoch 10/30\n",
      "55000/55000 [==============================] - 6s 116us/sample - loss: 0.3359 - accuracy: 0.8814 - val_loss: 0.3418 - val_accuracy: 0.8810\n",
      "Epoch 11/30\n",
      "55000/55000 [==============================] - 7s 121us/sample - loss: 0.3271 - accuracy: 0.8826 - val_loss: 0.3417 - val_accuracy: 0.8802\n",
      "Epoch 12/30\n",
      "55000/55000 [==============================] - 6s 115us/sample - loss: 0.3192 - accuracy: 0.8867 - val_loss: 0.3411 - val_accuracy: 0.8808\n",
      "Epoch 13/30\n",
      "55000/55000 [==============================] - 7s 132us/sample - loss: 0.3130 - accuracy: 0.8881 - val_loss: 0.3259 - val_accuracy: 0.8838\n",
      "Epoch 14/30\n",
      "55000/55000 [==============================] - 7s 136us/sample - loss: 0.3050 - accuracy: 0.8908 - val_loss: 0.3313 - val_accuracy: 0.8800\n",
      "Epoch 15/30\n",
      "55000/55000 [==============================] - 8s 154us/sample - loss: 0.2993 - accuracy: 0.8914 - val_loss: 0.3236 - val_accuracy: 0.8846\n",
      "Epoch 16/30\n",
      "55000/55000 [==============================] - 8s 153us/sample - loss: 0.2922 - accuracy: 0.8940 - val_loss: 0.3318 - val_accuracy: 0.8844\n",
      "Epoch 17/30\n",
      "55000/55000 [==============================] - 9s 158us/sample - loss: 0.2875 - accuracy: 0.8960 - val_loss: 0.3426 - val_accuracy: 0.8788\n",
      "Epoch 18/30\n",
      "55000/55000 [==============================] - 12s 222us/sample - loss: 0.2818 - accuracy: 0.8982 - val_loss: 0.3178 - val_accuracy: 0.8838\n",
      "Epoch 19/30\n",
      "55000/55000 [==============================] - 10s 174us/sample - loss: 0.2752 - accuracy: 0.9007 - val_loss: 0.3196 - val_accuracy: 0.8830\n",
      "Epoch 20/30\n",
      "55000/55000 [==============================] - 8s 145us/sample - loss: 0.2710 - accuracy: 0.9023 - val_loss: 0.3187 - val_accuracy: 0.8876\n",
      "Epoch 21/30\n",
      "55000/55000 [==============================] - 8s 151us/sample - loss: 0.2659 - accuracy: 0.9047 - val_loss: 0.3298 - val_accuracy: 0.8872\n",
      "Epoch 22/30\n",
      "55000/55000 [==============================] - 8s 151us/sample - loss: 0.2605 - accuracy: 0.9067 - val_loss: 0.3044 - val_accuracy: 0.8918\n",
      "Epoch 23/30\n",
      "55000/55000 [==============================] - 11s 203us/sample - loss: 0.2559 - accuracy: 0.9078 - val_loss: 0.3175 - val_accuracy: 0.8862\n",
      "Epoch 24/30\n",
      "55000/55000 [==============================] - 10s 181us/sample - loss: 0.2520 - accuracy: 0.9085 - val_loss: 0.3039 - val_accuracy: 0.8882\n",
      "Epoch 25/30\n",
      "55000/55000 [==============================] - 8s 146us/sample - loss: 0.2468 - accuracy: 0.9093 - val_loss: 0.3615 - val_accuracy: 0.8728\n",
      "Epoch 26/30\n",
      "55000/55000 [==============================] - 8s 147us/sample - loss: 0.2442 - accuracy: 0.9106 - val_loss: 0.2995 - val_accuracy: 0.8906\n",
      "Epoch 27/30\n",
      "55000/55000 [==============================] - 8s 148us/sample - loss: 0.2397 - accuracy: 0.9132 - val_loss: 0.2980 - val_accuracy: 0.8930\n",
      "Epoch 28/30\n",
      "55000/55000 [==============================] - 8s 152us/sample - loss: 0.2354 - accuracy: 0.9148 - val_loss: 0.3004 - val_accuracy: 0.8896\n",
      "Epoch 29/30\n",
      "55000/55000 [==============================] - 9s 166us/sample - loss: 0.2310 - accuracy: 0.9172 - val_loss: 0.3035 - val_accuracy: 0.8946\n",
      "Epoch 30/30\n",
      "55000/55000 [==============================] - 9s 169us/sample - loss: 0.2283 - accuracy: 0.9176 - val_loss: 0.2995 - val_accuracy: 0.8948\n"
     ]
    }
   ],
   "source": [
    "history=model.fit(X_train,y_train,epochs=30,validation_data=(X_valid,y_valid))"
   ]
  },
  {
   "cell_type": "markdown",
   "metadata": {},
   "source": [
    "## Wide and Deep"
   ]
  },
  {
   "cell_type": "code",
   "execution_count": 23,
   "metadata": {},
   "outputs": [
    {
     "name": "stderr",
     "output_type": "stream",
     "text": [
      "Downloading Cal. housing from https://ndownloader.figshare.com/files/5976036 to C:\\Users\\lu.jin01\\scikit_learn_data\n"
     ]
    }
   ],
   "source": [
    "from sklearn.datasets import fetch_california_housing\n",
    "from sklearn.model_selection import train_test_split\n",
    "from sklearn.preprocessing import StandardScaler\n",
    "\n",
    "housing = fetch_california_housing()\n",
    "\n",
    "X_train_full, X_test, y_train_full, y_test = train_test_split(housing.data, housing.target, random_state=42)\n",
    "X_train, X_valid, y_train, y_valid = train_test_split(X_train_full, y_train_full, random_state=42)\n",
    "\n",
    "scaler = StandardScaler()\n",
    "X_train = scaler.fit_transform(X_train)\n",
    "X_valid = scaler.transform(X_valid)\n",
    "X_test = scaler.transform(X_test)"
   ]
  },
  {
   "cell_type": "code",
   "execution_count": 24,
   "metadata": {},
   "outputs": [],
   "source": [
    "input_ = keras.layers.Input(shape=X_train.shape[1:])\n",
    "hidden1 = keras.layers.Dense(30, activation=\"relu\")(input_)\n",
    "hidden2 = keras.layers.Dense(30, activation=\"relu\")(hidden1)\n",
    "concat = keras.layers.concatenate([input_, hidden2])\n",
    "output = keras.layers.Dense(1)(concat)\n",
    "model = keras.models.Model(inputs=[input_], outputs=[output])"
   ]
  },
  {
   "cell_type": "code",
   "execution_count": 29,
   "metadata": {},
   "outputs": [
    {
     "data": {
      "text/plain": [
       "(11610, 8)"
      ]
     },
     "execution_count": 29,
     "metadata": {},
     "output_type": "execute_result"
    }
   ],
   "source": [
    "X_train.shape"
   ]
  },
  {
   "cell_type": "code",
   "execution_count": null,
   "metadata": {},
   "outputs": [],
   "source": []
  }
 ],
 "metadata": {
  "kernelspec": {
   "display_name": "Python 3",
   "language": "python",
   "name": "python3"
  },
  "language_info": {
   "codemirror_mode": {
    "name": "ipython",
    "version": 3
   },
   "file_extension": ".py",
   "mimetype": "text/x-python",
   "name": "python",
   "nbconvert_exporter": "python",
   "pygments_lexer": "ipython3",
   "version": "3.7.4"
  }
 },
 "nbformat": 4,
 "nbformat_minor": 4
}
