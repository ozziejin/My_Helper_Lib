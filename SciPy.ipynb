{
 "cells": [
  {
   "cell_type": "code",
   "execution_count": 38,
   "metadata": {},
   "outputs": [
    {
     "data": {
      "image/png": "[encoded data removed]",
      "text/plain": [
       "<Figure size 432x288 with 1 Axes>"
      ]
     },
     "metadata": {
      "needs_background": "light"
     },
     "output_type": "display_data"
    }
   ],
   "source": [
    ">>> from scipy.stats import reciprocal\n",
    ">>> import matplotlib.pyplot as plt\n",
    ">>> fig, ax = plt.subplots(1, 1)\n",
    "\n",
    ">>> a, b = 0.00623, 1.01\n",
    ">>> mean, var, skew, kurt = reciprocal.stats(a, b, moments='mvsk')\n",
    "\n",
    "import numpy as np\n",
    "\n",
    ">>> x = np.linspace(reciprocal.ppf(0.01, a, b),  # ppf: percentage point function, find x for given percentage prob.\n",
    "...                 reciprocal.ppf(0.99, a, b), 100)\n",
    ">>> ax.plot(x, reciprocal.pdf(x, a, b),\n",
    "...        'r-', lw=5, alpha=0.6, label='reciprocal pdf')\n",
    "\n",
    ">>> rv = reciprocal(a, b)\n",
    ">>> ax.plot(x, rv.pdf(x), 'k-', lw=2, label='frozen pdf')\n",
    "\n",
    ">>> r = reciprocal.rvs(a, b, size=1000)\n",
    ">>> ax.hist(r, density=True, histtype='stepfilled', alpha=0.2)\n",
    ">>> ax.legend(loc='best', frameon=False)\n",
    ">>> plt.show()"
   ]
  },
  {
   "cell_type": "code",
   "execution_count": 41,
   "metadata": {},
   "outputs": [
    {
     "data": {
      "text/plain": [
       "True"
      ]
     },
     "execution_count": 41,
     "metadata": {},
     "output_type": "execute_result"
    }
   ],
   "source": [
    "#Check accuracy of cdf and ppf:\n",
    ">>> vals = reciprocal.ppf([0.001, 0.5, 0.999], a, b)\n",
    ">>> np.allclose([0.001, 0.5, 0.999], reciprocal.cdf(vals, a, b))"
   ]
  },
  {
   "cell_type": "code",
   "execution_count": 42,
   "metadata": {},
   "outputs": [
    {
     "data": {
      "text/plain": [
       "array([29.9804683 , 12.14269667,  7.61307261,  5.54471288,  4.36012981,\n",
       "        3.59259989,  3.05484426,  2.65711586,  2.35102224,  2.10816634,\n",
       "        1.91078597,  1.7472015 ,  1.60941751,  1.4917763 ,  1.39016171,\n",
       "        1.30150757,  1.22348295,  1.15428428,  1.09249417,  1.03698331,\n",
       "        0.98684082,  0.94132386,  0.89982062,  0.86182261,  0.82690376,\n",
       "        0.79470437,  0.76491867,  0.73728505,  0.71157842,  0.68760399,\n",
       "        0.6651924 ,  0.64419565,  0.62448386,  0.60594258,  0.58847055,\n",
       "        0.57197788,  0.55638447,  0.54161871,  0.52761642,  0.51431988,\n",
       "        0.50167704,  0.48964086,  0.47816868,  0.46722178,  0.45676488,\n",
       "        0.44676581,  0.43719514,  0.42802592,  0.41923341,  0.41079485,\n",
       "        0.40268931,  0.39489745,  0.38740139,  0.38018463,  0.37323182,\n",
       "        0.36652875,  0.3600622 ,  0.35381987,  0.34779029,  0.34196278,\n",
       "        0.33632734,  0.33087462,  0.32559589,  0.32048295,  0.31552811,\n",
       "        0.31072414,  0.30606426,  0.30154208,  0.29715159,  0.29288712,\n",
       "        0.28874331,  0.28471513,  0.28079779,  0.27698678,  0.27327783,\n",
       "        0.2696669 ,  0.26615016,  0.26272395,  0.25938484,  0.25612953,\n",
       "        0.25295493,  0.24985805,  0.24683609,  0.24388635,  0.24100629,\n",
       "        0.23819344,  0.2354455 ,  0.23276024,  0.23013555,  0.22756938,\n",
       "        0.22505981,  0.22260499,  0.22020314,  0.21785257,  0.21555166,\n",
       "        0.21329883,  0.21109262,  0.20893157,  0.20681432,  0.20473955])"
      ]
     },
     "execution_count": 42,
     "metadata": {},
     "output_type": "execute_result"
    }
   ],
   "source": [
    "reciprocal.pdf(x, a, b)"
   ]
  },
  {
   "cell_type": "code",
   "execution_count": 28,
   "metadata": {},
   "outputs": [
    {
     "data": {
      "text/plain": [
       "0.006555206540514709"
      ]
     },
     "execution_count": 28,
     "metadata": {},
     "output_type": "execute_result"
    }
   ],
   "source": [
    "reciprocal.ppf(0.01, a, b)"
   ]
  },
  {
   "cell_type": "code",
   "execution_count": 32,
   "metadata": {},
   "outputs": [
    {
     "data": {
      "text/plain": [
       "0.9598934772093288"
      ]
     },
     "execution_count": 32,
     "metadata": {},
     "output_type": "execute_result"
    }
   ],
   "source": [
    "reciprocal.ppf(0.99, a, b)"
   ]
  },
  {
   "cell_type": "code",
   "execution_count": 30,
   "metadata": {},
   "outputs": [
    {
     "data": {
      "text/plain": [
       "array(0.19726907)"
      ]
     },
     "execution_count": 30,
     "metadata": {},
     "output_type": "execute_result"
    }
   ],
   "source": [
    "mean"
   ]
  },
  {
   "cell_type": "code",
   "execution_count": 31,
   "metadata": {},
   "outputs": [
    {
     "data": {
      "text/plain": [
       "array(0.06132029)"
      ]
     },
     "execution_count": 31,
     "metadata": {},
     "output_type": "execute_result"
    }
   ],
   "source": [
    "var"
   ]
  },
  {
   "cell_type": "code",
   "execution_count": 37,
   "metadata": {},
   "outputs": [
    {
     "data": {
      "text/plain": [
       "<scipy.stats._distn_infrastructure.rv_frozen at 0x266a7f4d7c8>"
      ]
     },
     "execution_count": 37,
     "metadata": {},
     "output_type": "execute_result"
    }
   ],
   "source": [
    "reciprocal(0.001, 0.1)"
   ]
  },
  {
   "cell_type": "code",
   "execution_count": null,
   "metadata": {},
   "outputs": [],
   "source": []
  }
 ],
 "metadata": {
  "kernelspec": {
   "display_name": "Python 3",
   "language": "python",
   "name": "python3"
  },
  "language_info": {
   "codemirror_mode": {
    "name": "ipython",
    "version": 3
   },
   "file_extension": ".py",
   "mimetype": "text/x-python",
   "name": "python",
   "nbconvert_exporter": "python",
   "pygments_lexer": "ipython3",
   "version": "3.7.4"
  }
 },
 "nbformat": 4,
 "nbformat_minor": 4
}
